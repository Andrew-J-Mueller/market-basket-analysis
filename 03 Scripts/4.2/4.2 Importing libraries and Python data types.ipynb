{
 "cells": [
  {
   "cell_type": "markdown",
   "id": "502a9e13",
   "metadata": {},
   "source": [
    "#01. Importing libraries"
   ]
  },
  {
   "cell_type": "code",
   "execution_count": 1,
   "id": "8610f156",
   "metadata": {},
   "outputs": [],
   "source": [
    "# Import libraries\n",
    "import pandas as pd\n",
    "import numpy as np\n",
    "import os"
   ]
  },
  {
   "cell_type": "markdown",
   "id": "67150d18",
   "metadata": {},
   "source": [
    "#02. Python data types"
   ]
  },
  {
   "cell_type": "code",
   "execution_count": 3,
   "id": "91da169c",
   "metadata": {},
   "outputs": [],
   "source": [
    "#Integer\n",
    "x = 2"
   ]
  },
  {
   "cell_type": "code",
   "execution_count": 4,
   "id": "7ff1bcc6",
   "metadata": {},
   "outputs": [
    {
     "name": "stdout",
     "output_type": "stream",
     "text": [
      "2\n"
     ]
    }
   ],
   "source": [
    "print(x)"
   ]
  },
  {
   "cell_type": "code",
   "execution_count": 5,
   "id": "361e0b1f",
   "metadata": {},
   "outputs": [
    {
     "data": {
      "text/plain": [
       "2"
      ]
     },
     "execution_count": 5,
     "metadata": {},
     "output_type": "execute_result"
    }
   ],
   "source": [
    "x"
   ]
  },
  {
   "cell_type": "code",
   "execution_count": 6,
   "id": "c560ea10",
   "metadata": {},
   "outputs": [
    {
     "data": {
      "text/plain": [
       "int"
      ]
     },
     "execution_count": 6,
     "metadata": {},
     "output_type": "execute_result"
    }
   ],
   "source": [
    "type(x)"
   ]
  },
  {
   "cell_type": "code",
   "execution_count": 7,
   "id": "9c8c12ce",
   "metadata": {},
   "outputs": [],
   "source": [
    "#Floating-point numbers\n",
    "y = 5.678"
   ]
  },
  {
   "cell_type": "code",
   "execution_count": 8,
   "id": "f3c84c17",
   "metadata": {},
   "outputs": [
    {
     "data": {
      "text/plain": [
       "float"
      ]
     },
     "execution_count": 8,
     "metadata": {},
     "output_type": "execute_result"
    }
   ],
   "source": [
    "type(y)"
   ]
  },
  {
   "cell_type": "code",
   "execution_count": 9,
   "id": "a1b41824",
   "metadata": {},
   "outputs": [],
   "source": [
    "#String\n",
    "z = 'Brazil'"
   ]
  },
  {
   "cell_type": "code",
   "execution_count": 10,
   "id": "1b4ee9b4",
   "metadata": {},
   "outputs": [
    {
     "data": {
      "text/plain": [
       "str"
      ]
     },
     "execution_count": 10,
     "metadata": {},
     "output_type": "execute_result"
    }
   ],
   "source": [
    "type(z)"
   ]
  },
  {
   "cell_type": "code",
   "execution_count": 11,
   "id": "f7c25c46",
   "metadata": {},
   "outputs": [
    {
     "name": "stdout",
     "output_type": "stream",
     "text": [
      "Brazil\n"
     ]
    }
   ],
   "source": [
    "print(z)"
   ]
  },
  {
   "cell_type": "code",
   "execution_count": 12,
   "id": "f2b3f7bb",
   "metadata": {},
   "outputs": [
    {
     "ename": "NameError",
     "evalue": "name 'Mania' is not defined",
     "output_type": "error",
     "traceback": [
      "\u001b[1;31m---------------------------------------------------------------------------\u001b[0m",
      "\u001b[1;31mNameError\u001b[0m                                 Traceback (most recent call last)",
      "Cell \u001b[1;32mIn[12], line 1\u001b[0m\n\u001b[1;32m----> 1\u001b[0m z\u001b[38;5;241m=\u001b[39m\u001b[43mMania\u001b[49m\n",
      "\u001b[1;31mNameError\u001b[0m: name 'Mania' is not defined"
     ]
    }
   ],
   "source": [
    "z=Mania"
   ]
  },
  {
   "cell_type": "code",
   "execution_count": 13,
   "id": "4ab7f2bc",
   "metadata": {},
   "outputs": [
    {
     "name": "stdout",
     "output_type": "stream",
     "text": [
      "Brazil\n"
     ]
    }
   ],
   "source": [
    "print(z)"
   ]
  },
  {
   "cell_type": "code",
   "execution_count": 14,
   "id": "8093b52e",
   "metadata": {},
   "outputs": [
    {
     "data": {
      "text/plain": [
       "bool"
      ]
     },
     "execution_count": 14,
     "metadata": {},
     "output_type": "execute_result"
    }
   ],
   "source": [
    "#Boolean\n",
    "type(True)"
   ]
  },
  {
   "cell_type": "code",
   "execution_count": 26,
   "id": "ed1028d0",
   "metadata": {},
   "outputs": [
    {
     "data": {
      "text/plain": [
       "False"
      ]
     },
     "execution_count": 26,
     "metadata": {},
     "output_type": "execute_result"
    }
   ],
   "source": [
    "x == y"
   ]
  },
  {
   "cell_type": "code",
   "execution_count": 27,
   "id": "ab6e210b",
   "metadata": {},
   "outputs": [
    {
     "data": {
      "text/plain": [
       "bool"
      ]
     },
     "execution_count": 27,
     "metadata": {},
     "output_type": "execute_result"
    }
   ],
   "source": [
    "type(x == y)"
   ]
  },
  {
   "cell_type": "code",
   "execution_count": 15,
   "id": "a9e66589",
   "metadata": {},
   "outputs": [
    {
     "data": {
      "text/plain": [
       "6"
      ]
     },
     "execution_count": 15,
     "metadata": {},
     "output_type": "execute_result"
    }
   ],
   "source": [
    "#Python operators: arithematic and comparison operators\n",
    "x+4"
   ]
  },
  {
   "cell_type": "code",
   "execution_count": 17,
   "id": "ec62c52f",
   "metadata": {},
   "outputs": [
    {
     "data": {
      "text/plain": [
       "7.678"
      ]
     },
     "execution_count": 17,
     "metadata": {},
     "output_type": "execute_result"
    }
   ],
   "source": [
    "x + y"
   ]
  },
  {
   "cell_type": "code",
   "execution_count": 18,
   "id": "6bc9d4ab",
   "metadata": {},
   "outputs": [],
   "source": [
    "x = x + 4"
   ]
  },
  {
   "cell_type": "code",
   "execution_count": 19,
   "id": "39673d20",
   "metadata": {},
   "outputs": [
    {
     "name": "stdout",
     "output_type": "stream",
     "text": [
      "6\n"
     ]
    }
   ],
   "source": [
    "print(x)"
   ]
  },
  {
   "cell_type": "code",
   "execution_count": 20,
   "id": "d84e247f",
   "metadata": {},
   "outputs": [],
   "source": [
    "#Strings: add 2 strings to concatenate text\n",
    "a = 'Hello,'"
   ]
  },
  {
   "cell_type": "code",
   "execution_count": 23,
   "id": "896deb30",
   "metadata": {},
   "outputs": [],
   "source": [
    "b = ' Marley'"
   ]
  },
  {
   "cell_type": "code",
   "execution_count": 24,
   "id": "a2850df1",
   "metadata": {},
   "outputs": [
    {
     "data": {
      "text/plain": [
       "'Hello, Marley'"
      ]
     },
     "execution_count": 24,
     "metadata": {},
     "output_type": "execute_result"
    }
   ],
   "source": [
    "a + b"
   ]
  },
  {
   "cell_type": "code",
   "execution_count": 25,
   "id": "3a0365f7",
   "metadata": {},
   "outputs": [
    {
     "data": {
      "text/plain": [
       "'Hello, Marley Marley Marley Marley Marley Marley Marley Marley Marley Marley Marley Marley'"
      ]
     },
     "execution_count": 25,
     "metadata": {},
     "output_type": "execute_result"
    }
   ],
   "source": [
    "a + b * 12"
   ]
  },
  {
   "cell_type": "markdown",
   "id": "8af18a25",
   "metadata": {},
   "source": [
    "#03. Task 4.2 Directions\n",
    "\n",
    "1.Create a folder for your Achievement 4 project following the structure recommended in this Exercise.\n",
    "2.Within your “Scripts” folder, create a Jupyter notebook for this Exercise and name it according to the recommended naming convention.\n",
    "3.Install the pandas and NumPy libraries using your command prompt (Anaconda Prompt for PC, Terminal for Mac).\n",
    "4.Add a section header to your notebook for importing libraries.\n",
    "5.In the cell beneath the section header, import the pandas, NumPy, and os libraries. Ensure you include a comment in your code.\n",
    "6.Add a second section header to your notebook for working with Python data types."
   ]
  },
  {
   "cell_type": "code",
   "execution_count": null,
   "id": "96733dcb",
   "metadata": {},
   "outputs": [],
   "source": [
    "#7.Code 3 different ways of reaching a result of 100 by adding or subtracting numeric variables."
   ]
  },
  {
   "cell_type": "code",
   "execution_count": 28,
   "id": "de5bfda7",
   "metadata": {},
   "outputs": [],
   "source": [
    "x = 10\n",
    "y = 10"
   ]
  },
  {
   "cell_type": "code",
   "execution_count": 29,
   "id": "5c4d1218",
   "metadata": {},
   "outputs": [
    {
     "name": "stdout",
     "output_type": "stream",
     "text": [
      "100\n"
     ]
    }
   ],
   "source": [
    "print(x * y)"
   ]
  },
  {
   "cell_type": "code",
   "execution_count": 30,
   "id": "710158dc",
   "metadata": {},
   "outputs": [],
   "source": [
    "z = (x + y)"
   ]
  },
  {
   "cell_type": "code",
   "execution_count": 31,
   "id": "2c0c6194",
   "metadata": {},
   "outputs": [
    {
     "name": "stdout",
     "output_type": "stream",
     "text": [
      "100\n"
     ]
    }
   ],
   "source": [
    "print(z + z + z + z + z)"
   ]
  },
  {
   "cell_type": "code",
   "execution_count": 35,
   "id": "2382f69d",
   "metadata": {},
   "outputs": [
    {
     "name": "stdout",
     "output_type": "stream",
     "text": [
      "100\n"
     ]
    }
   ],
   "source": [
    "print((x + y + z) * 2 + x + y)"
   ]
  },
  {
   "cell_type": "code",
   "execution_count": null,
   "id": "1b494dbb",
   "metadata": {},
   "outputs": [],
   "source": [
    "#8.8.Code 2 floating-point variables and divide them by each other. "
   ]
  },
  {
   "cell_type": "code",
   "execution_count": 36,
   "id": "f312e3f0",
   "metadata": {},
   "outputs": [],
   "source": [
    "a = 10.5\n",
    "b = 2.3"
   ]
  },
  {
   "cell_type": "code",
   "execution_count": 37,
   "id": "31e2bda2",
   "metadata": {},
   "outputs": [
    {
     "name": "stdout",
     "output_type": "stream",
     "text": [
      "4.565217391304349\n"
     ]
    }
   ],
   "source": [
    "print(a / b)"
   ]
  },
  {
   "cell_type": "code",
   "execution_count": null,
   "id": "0bdd267d",
   "metadata": {},
   "outputs": [],
   "source": [
    "#9.Construct a short word made of separate strings (you’ll need to concatenate some strings!)."
   ]
  },
  {
   "cell_type": "code",
   "execution_count": 40,
   "id": "2ff743ba",
   "metadata": {},
   "outputs": [],
   "source": [
    "construct = 'con'\n",
    "a = 'cat'\n",
    "short = 'en'\n",
    "word = 'ate'"
   ]
  },
  {
   "cell_type": "code",
   "execution_count": 41,
   "id": "7df0771a",
   "metadata": {},
   "outputs": [
    {
     "name": "stdout",
     "output_type": "stream",
     "text": [
      "concatenate\n"
     ]
    }
   ],
   "source": [
    "print(construct + a + short + word)"
   ]
  },
  {
   "cell_type": "code",
   "execution_count": null,
   "id": "5a77ef94",
   "metadata": {},
   "outputs": [],
   "source": [
    "#10.Construct 2 short sentences made of separate strings."
   ]
  },
  {
   "cell_type": "code",
   "execution_count": 42,
   "id": "e8c3bf85",
   "metadata": {},
   "outputs": [
    {
     "ename": "SyntaxError",
     "evalue": "cannot assign to literal here. Maybe you meant '==' instead of '='? (1964107058.py, line 1)",
     "output_type": "error",
     "traceback": [
      "\u001b[1;36m  Cell \u001b[1;32mIn[42], line 1\u001b[1;36m\u001b[0m\n\u001b[1;33m    1 = 'Construct'\u001b[0m\n\u001b[1;37m    ^\u001b[0m\n\u001b[1;31mSyntaxError\u001b[0m\u001b[1;31m:\u001b[0m cannot assign to literal here. Maybe you meant '==' instead of '='?\n"
     ]
    }
   ],
   "source": [
    "1 = 'Construct'\n",
    "2 = ' 2'\n",
    "3 = ' short sentences'\n",
    "4 = ' made of separate'\n",
    "5 = ' strings.'"
   ]
  },
  {
   "cell_type": "code",
   "execution_count": 43,
   "id": "a127b898",
   "metadata": {},
   "outputs": [
    {
     "ename": "SyntaxError",
     "evalue": "invalid decimal literal (610631782.py, line 1)",
     "output_type": "error",
     "traceback": [
      "\u001b[1;36m  Cell \u001b[1;32mIn[43], line 1\u001b[1;36m\u001b[0m\n\u001b[1;33m    1a = 'Construct'\u001b[0m\n\u001b[1;37m    ^\u001b[0m\n\u001b[1;31mSyntaxError\u001b[0m\u001b[1;31m:\u001b[0m invalid decimal literal\n"
     ]
    }
   ],
   "source": [
    "1a = 'Construct'\n",
    "2a = ' 2'\n",
    "3a = ' short sentences'\n",
    "4a = ' made of separate'\n",
    "5a = ' strings.'"
   ]
  },
  {
   "cell_type": "code",
   "execution_count": 45,
   "id": "e9593563",
   "metadata": {},
   "outputs": [],
   "source": [
    "value = 'Construct'\n",
    "cant = ' 2'\n",
    "equal = ' short sentences'\n",
    "an = ' made of separate'\n",
    "integer = ' strings.'"
   ]
  },
  {
   "cell_type": "code",
   "execution_count": 46,
   "id": "59fc8b71",
   "metadata": {},
   "outputs": [
    {
     "name": "stdout",
     "output_type": "stream",
     "text": [
      "Construct 2 short sentences made of separate strings.Construct 2 short sentences made of separate strings.\n"
     ]
    }
   ],
   "source": [
    "print((value + cant + equal + an + integer) * 2)"
   ]
  },
  {
   "cell_type": "code",
   "execution_count": 50,
   "id": "df9f2fb6",
   "metadata": {},
   "outputs": [
    {
     "name": "stdout",
     "output_type": "stream",
     "text": [
      "Construct 2 short sentences made of separate strings. By concatenateing.\n"
     ]
    }
   ],
   "source": [
    "print((value + cant + equal + an + integer) + ' By ' + ( construct + a + short + word) + 'ing.')"
   ]
  },
  {
   "cell_type": "code",
   "execution_count": null,
   "id": "45cfe713",
   "metadata": {},
   "outputs": [],
   "source": [
    "#11.Save your Jupyter file by clicking on the Save icon highlighted below:The disc-shaped Save icon in the top-left corner of Jupyter\n",
    "12.Locate your project folder on your device, compress it as a zip file (right-click the folder and select Add to Archive), then submit the zip file for your tutor to review.\n",
    "\n",
    "Bonus Task\n",
    "At the bottom of your file, include a command that makes a string appear 100 times."
   ]
  },
  {
   "cell_type": "code",
   "execution_count": 51,
   "id": "4713ba08",
   "metadata": {},
   "outputs": [
    {
     "name": "stdout",
     "output_type": "stream",
     "text": [
      " strings. strings. strings. strings. strings. strings. strings. strings. strings. strings. strings. strings. strings. strings. strings. strings. strings. strings. strings. strings. strings. strings. strings. strings. strings. strings. strings. strings. strings. strings. strings. strings. strings. strings. strings. strings. strings. strings. strings. strings. strings. strings. strings. strings. strings. strings. strings. strings. strings. strings. strings. strings. strings. strings. strings. strings. strings. strings. strings. strings. strings. strings. strings. strings. strings. strings. strings. strings. strings. strings. strings. strings. strings. strings. strings. strings. strings. strings. strings. strings. strings. strings. strings. strings. strings. strings. strings. strings. strings. strings. strings. strings. strings. strings. strings. strings. strings. strings. strings. strings.\n"
     ]
    }
   ],
   "source": [
    "print((x * y) * integer)"
   ]
  },
  {
   "cell_type": "code",
   "execution_count": null,
   "id": "b0f7e3e2",
   "metadata": {},
   "outputs": [],
   "source": []
  }
 ],
 "metadata": {
  "kernelspec": {
   "display_name": "Python 3 (ipykernel)",
   "language": "python",
   "name": "python3"
  },
  "language_info": {
   "codemirror_mode": {
    "name": "ipython",
    "version": 3
   },
   "file_extension": ".py",
   "mimetype": "text/x-python",
   "name": "python",
   "nbconvert_exporter": "python",
   "pygments_lexer": "ipython3",
   "version": "3.10.9"
  }
 },
 "nbformat": 4,
 "nbformat_minor": 5
}
